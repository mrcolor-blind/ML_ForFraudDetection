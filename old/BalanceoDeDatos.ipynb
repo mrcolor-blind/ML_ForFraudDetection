{
 "cells": [
  {
   "cell_type": "code",
   "execution_count": null,
   "id": "16c15199",
   "metadata": {},
   "outputs": [],
   "source": []
  },
  {
   "cell_type": "markdown",
   "id": "56e25f77",
   "metadata": {},
   "source": [
    "\n",
    "# **Balanceo de datos**"
   ]
  },
  {
   "cell_type": "code",
   "execution_count": 1,
   "id": "2bcb437e",
   "metadata": {},
   "outputs": [],
   "source": [
    "import pandas as pd\n",
    "from sklearn.model_selection import train_test_split\n",
    "\n",
    "# Cargar dataset limpio\n",
    "df = pd.read_csv(\"base_clean.csv\")\n",
    "\n",
    "X = df.drop(columns=[\"fraud_bool\"])\n",
    "y = df[\"fraud_bool\"]\n"
   ]
  },
  {
   "cell_type": "markdown",
   "id": "c35feb18",
   "metadata": {},
   "source": [
    "## Dividir datos"
   ]
  },
  {
   "cell_type": "markdown",
   "id": "6638498c",
   "metadata": {},
   "source": [
    "Train: 70%\n",
    "\n",
    "Validation: 15%\n",
    "\n",
    "Test: 15%"
   ]
  },
  {
   "cell_type": "code",
   "execution_count": 2,
   "id": "314feb38",
   "metadata": {},
   "outputs": [],
   "source": [
    "\n",
    "# Train + Temp\n",
    "X_train, X_temp, y_train, y_temp = train_test_split(\n",
    "    X, y, test_size=0.30, stratify=y, random_state=42\n",
    ")\n",
    "\n",
    "# Validation + Test (50/50 de ese 30%)\n",
    "X_val, X_test, y_val, y_test = train_test_split(\n",
    "    X_temp, y_temp, test_size=0.50, stratify=y_temp, random_state=42\n",
    ")\n"
   ]
  },
  {
   "cell_type": "markdown",
   "id": "98ee9d21",
   "metadata": {},
   "source": [
    "## Oversampling / Undersampling / Hybrid"
   ]
  },
  {
   "cell_type": "code",
   "execution_count": 3,
   "id": "376285fd",
   "metadata": {},
   "outputs": [],
   "source": [
    "# balance.py\n",
    "from typing import Literal, Optional, Sequence, Tuple, Union\n",
    "import numpy as np\n",
    "import pandas as pd\n",
    "\n",
    "from imblearn.over_sampling import SMOTE, RandomOverSampler\n",
    "from imblearn.under_sampling import RandomUnderSampler\n",
    "from imblearn.combine import SMOTEENN\n",
    "\n",
    "ArrayLike = Union[pd.DataFrame, pd.Series, np.ndarray]\n",
    "\n",
    "def balance_data(X_train, y_train, method=\"oversample\", *, use_smote=True,\n",
    "                 categorical_features=None, sampling_strategy=\"auto\",\n",
    "                 random_state=42):\n",
    "    \"\"\"\n",
    "    Aplica un método de balanceo al train set.\n",
    "    \"\"\"\n",
    "    if method == \"oversample\":\n",
    "        if use_smote:\n",
    "            # Si tienes variables categóricas sin one-hot → usa SMOTENC\n",
    "            if categorical_features:\n",
    "                from imblearn.over_sampling import SMOTENC\n",
    "                sampler = SMOTENC(\n",
    "                    categorical_features=categorical_features,\n",
    "                    sampling_strategy=sampling_strategy,\n",
    "                    random_state=random_state\n",
    "                )\n",
    "            else:\n",
    "                sampler = SMOTE(\n",
    "                    sampling_strategy=sampling_strategy,\n",
    "                    random_state=random_state\n",
    "                )\n",
    "        else:\n",
    "            sampler = RandomOverSampler(\n",
    "                sampling_strategy=sampling_strategy,\n",
    "                random_state=random_state\n",
    "            )\n",
    "\n",
    "    elif method == \"undersample\":\n",
    "        sampler = RandomUnderSampler(\n",
    "            sampling_strategy=sampling_strategy,\n",
    "            random_state=random_state\n",
    "        )\n",
    "\n",
    "    elif method == \"hybrid\":\n",
    "        sampler = SMOTEENN(\n",
    "            sampling_strategy=sampling_strategy,\n",
    "            random_state=random_state\n",
    "        )\n",
    "\n",
    "    else:\n",
    "        raise ValueError(\"method debe ser 'oversample', 'undersample' o 'hybrid'.\")\n",
    "\n",
    "    return sampler.fit_resample(X_train, y_train)"
   ]
  },
  {
   "cell_type": "markdown",
   "id": "c812dbdc",
   "metadata": {},
   "source": [
    "#### Elegir uno de los 3 métodos de balanceo:"
   ]
  },
  {
   "cell_type": "code",
   "execution_count": 4,
   "id": "d00979cb",
   "metadata": {},
   "outputs": [],
   "source": [
    "# 1) Oversampling (SMOTE)\n",
    "X_tr_os, y_tr_os = balance_data(X_train, y_train, method=\"oversample\", use_smote=True)\n",
    "\n",
    "# 2) Undersampling\n",
    "#X_tr_us, y_tr_us = balance_data(X_train, y_train, method=\"undersample\")\n",
    "\n",
    "# 3) Híbrido (SMOTEENN)\n",
    "#X_tr_hy, y_tr_hy = balance_data(X_train, y_train, method=\"hybrid\")"
   ]
  },
  {
   "cell_type": "code",
   "execution_count": null,
   "id": "0cdc503c",
   "metadata": {},
   "outputs": [],
   "source": []
  }
 ],
 "metadata": {
  "kernelspec": {
   "display_name": "Python 3",
   "language": "python",
   "name": "python3"
  },
  "language_info": {
   "codemirror_mode": {
    "name": "ipython",
    "version": 3
   },
   "file_extension": ".py",
   "mimetype": "text/x-python",
   "name": "python",
   "nbconvert_exporter": "python",
   "pygments_lexer": "ipython3",
   "version": "3.13.0"
  }
 },
 "nbformat": 4,
 "nbformat_minor": 5
}
